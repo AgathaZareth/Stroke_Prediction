{
 "cells": [
  {
   "cell_type": "markdown",
   "metadata": {},
   "source": [
    "# TITLE"
   ]
  },
  {
   "cell_type": "markdown",
   "metadata": {},
   "source": [
    "## Final Project Submission\n",
    "\n",
    "Please fill out:\n",
    "* __Student name:__ Cassarra Groesbeck\n",
    "* __Student pace:__ Part Time/ Flex\n",
    "* __Scheduled project review date/time:__ \n",
    "* __Instructor name:__ \n",
    "* __Blog post URL:__\n",
    "\n"
   ]
  },
  {
   "cell_type": "markdown",
   "metadata": {},
   "source": [
    "# 1. Introduction \n",
    "\n",
    "## 1a. Objectives\n",
    "\n",
    "## 1b. Business Understanding"
   ]
  },
  {
   "cell_type": "markdown",
   "metadata": {},
   "source": [
    "# 2. Data Understanding\n",
    "This data contains 5110 observations with 12 attributes (11 clinical features) for predicting stroke events. \n",
    "\n",
    "\n",
    "## 2a. Attribute Information\n",
    "| Column     | Description   |\n",
    "|------------|:--------------|\n",
    "| `id`               | **unique identifier**  |\n",
    "| `gender`           | **\"Male\", \"Female\" or \"Other\"**  |\n",
    "| `age`              | **age of the patient** |\n",
    "| `hypertension`     | **0 if the patient doesn't have hypertension, 1 if the patient has hypertension**  |\n",
    "| `heart_disease`    | **0 if the patient doesn't have any heart diseases, 1 if the patient has a heart disease**   |\n",
    "| `ever_married`     | **\"No\" or \"Yes\"**  |\n",
    "| `work_type`        | **\"children\", \"Govt_jov\", \"Never_worked\", \"Private\" or \"Self-employed\"**   |\n",
    "| `Residence_type`   | **\"Rural\" or \"Urban\"**  |\n",
    "| `avg_glucose_level`| **average glucose level in blood**  |\n",
    "| `bmi`              | **body mass index** |\n",
    "| `smoking_status`   | **\"formerly smoked\", \"never smoked\", \"smokes\" or \"Unknown\"***  |\n",
    "| `stroke`           | **1 if the patient had a stroke or 0 if not**  |\n",
    "|    **_*Note:_**      | _\"Unknown\" in_ `smoking_status` _means that the information is unavailable for this patient_ |\n",
    "\n",
    "\n",
    "## 2b. Acknowledgements\n",
    "Data comes from the [Stroke Prediction Dataset](https://www.kaggle.com/datasets/fedesoriano/stroke-prediction-dataset) and can be found on [kaggle](https://www.kaggle.com)."
   ]
  },
  {
   "cell_type": "markdown",
   "metadata": {},
   "source": [
    "# 3. Imports"
   ]
  },
  {
   "cell_type": "code",
   "execution_count": 2,
   "metadata": {},
   "outputs": [],
   "source": [
    "import pandas as pd\n",
    "import numpy as np\n",
    "\n",
    "import matplotlib.pyplot as plt\n",
    "import seaborn as sns\n",
    "#plt.style.use('seaborn')\n",
    "sns.set_style('darkgrid', {'axes.facecolor': '0.9', \"grid.color\": \".6\", \"grid.linestyle\": \":\"})\n",
    "%matplotlib inline\n",
    "\n",
    "from imblearn.over_sampling import SMOTE, SMOTENC\n",
    "from imblearn.pipeline import Pipeline as imbpipeline\n",
    "from imblearn.combine import SMOTETomek\n",
    "\n",
    "from sklearn.linear_model import LogisticRegression\n",
    "from sklearn.neighbors import KNeighborsClassifier\n",
    "from sklearn.model_selection import train_test_split, cross_val_score, StratifiedKFold, GridSearchCV\n",
    "from sklearn.preprocessing import StandardScaler, OneHotEncoder\n",
    "from sklearn.compose import ColumnTransformer\n",
    "from sklearn.pipeline import Pipeline, FeatureUnion\n",
    "from sklearn.metrics import confusion_matrix, plot_confusion_matrix,\\\n",
    "    precision_score, recall_score, accuracy_score, f1_score, log_loss,\\\n",
    "    roc_curve, roc_auc_score, classification_report, plot_roc_curve, auc\n",
    "\n",
    "import warnings\n",
    "warnings.filterwarnings('ignore')"
   ]
  },
  {
   "cell_type": "markdown",
   "metadata": {},
   "source": [
    "# 4. Exploring the data"
   ]
  },
  {
   "cell_type": "code",
   "execution_count": 3,
   "metadata": {},
   "outputs": [],
   "source": [
    "data = pd.read_csv('Data/healthcare-dataset-stroke-data.csv')"
   ]
  },
  {
   "cell_type": "code",
   "execution_count": 3,
   "metadata": {},
   "outputs": [
    {
     "data": {
      "text/html": [
       "<div>\n",
       "<style scoped>\n",
       "    .dataframe tbody tr th:only-of-type {\n",
       "        vertical-align: middle;\n",
       "    }\n",
       "\n",
       "    .dataframe tbody tr th {\n",
       "        vertical-align: top;\n",
       "    }\n",
       "\n",
       "    .dataframe thead th {\n",
       "        text-align: right;\n",
       "    }\n",
       "</style>\n",
       "<table border=\"1\" class=\"dataframe\">\n",
       "  <thead>\n",
       "    <tr style=\"text-align: right;\">\n",
       "      <th></th>\n",
       "      <th>id</th>\n",
       "      <th>gender</th>\n",
       "      <th>age</th>\n",
       "      <th>hypertension</th>\n",
       "      <th>heart_disease</th>\n",
       "      <th>ever_married</th>\n",
       "      <th>work_type</th>\n",
       "      <th>Residence_type</th>\n",
       "      <th>avg_glucose_level</th>\n",
       "      <th>bmi</th>\n",
       "      <th>smoking_status</th>\n",
       "      <th>stroke</th>\n",
       "    </tr>\n",
       "  </thead>\n",
       "  <tbody>\n",
       "    <tr>\n",
       "      <th>0</th>\n",
       "      <td>9046</td>\n",
       "      <td>Male</td>\n",
       "      <td>67.0</td>\n",
       "      <td>0</td>\n",
       "      <td>1</td>\n",
       "      <td>Yes</td>\n",
       "      <td>Private</td>\n",
       "      <td>Urban</td>\n",
       "      <td>228.69</td>\n",
       "      <td>36.6</td>\n",
       "      <td>formerly smoked</td>\n",
       "      <td>1</td>\n",
       "    </tr>\n",
       "    <tr>\n",
       "      <th>1</th>\n",
       "      <td>51676</td>\n",
       "      <td>Female</td>\n",
       "      <td>61.0</td>\n",
       "      <td>0</td>\n",
       "      <td>0</td>\n",
       "      <td>Yes</td>\n",
       "      <td>Self-employed</td>\n",
       "      <td>Rural</td>\n",
       "      <td>202.21</td>\n",
       "      <td>NaN</td>\n",
       "      <td>never smoked</td>\n",
       "      <td>1</td>\n",
       "    </tr>\n",
       "    <tr>\n",
       "      <th>2</th>\n",
       "      <td>31112</td>\n",
       "      <td>Male</td>\n",
       "      <td>80.0</td>\n",
       "      <td>0</td>\n",
       "      <td>1</td>\n",
       "      <td>Yes</td>\n",
       "      <td>Private</td>\n",
       "      <td>Rural</td>\n",
       "      <td>105.92</td>\n",
       "      <td>32.5</td>\n",
       "      <td>never smoked</td>\n",
       "      <td>1</td>\n",
       "    </tr>\n",
       "    <tr>\n",
       "      <th>3</th>\n",
       "      <td>60182</td>\n",
       "      <td>Female</td>\n",
       "      <td>49.0</td>\n",
       "      <td>0</td>\n",
       "      <td>0</td>\n",
       "      <td>Yes</td>\n",
       "      <td>Private</td>\n",
       "      <td>Urban</td>\n",
       "      <td>171.23</td>\n",
       "      <td>34.4</td>\n",
       "      <td>smokes</td>\n",
       "      <td>1</td>\n",
       "    </tr>\n",
       "    <tr>\n",
       "      <th>4</th>\n",
       "      <td>1665</td>\n",
       "      <td>Female</td>\n",
       "      <td>79.0</td>\n",
       "      <td>1</td>\n",
       "      <td>0</td>\n",
       "      <td>Yes</td>\n",
       "      <td>Self-employed</td>\n",
       "      <td>Rural</td>\n",
       "      <td>174.12</td>\n",
       "      <td>24.0</td>\n",
       "      <td>never smoked</td>\n",
       "      <td>1</td>\n",
       "    </tr>\n",
       "  </tbody>\n",
       "</table>\n",
       "</div>"
      ],
      "text/plain": [
       "      id  gender   age  hypertension  heart_disease ever_married  \\\n",
       "0   9046    Male  67.0             0              1          Yes   \n",
       "1  51676  Female  61.0             0              0          Yes   \n",
       "2  31112    Male  80.0             0              1          Yes   \n",
       "3  60182  Female  49.0             0              0          Yes   \n",
       "4   1665  Female  79.0             1              0          Yes   \n",
       "\n",
       "       work_type Residence_type  avg_glucose_level   bmi   smoking_status  \\\n",
       "0        Private          Urban             228.69  36.6  formerly smoked   \n",
       "1  Self-employed          Rural             202.21   NaN     never smoked   \n",
       "2        Private          Rural             105.92  32.5     never smoked   \n",
       "3        Private          Urban             171.23  34.4           smokes   \n",
       "4  Self-employed          Rural             174.12  24.0     never smoked   \n",
       "\n",
       "   stroke  \n",
       "0       1  \n",
       "1       1  \n",
       "2       1  \n",
       "3       1  \n",
       "4       1  "
      ]
     },
     "execution_count": 3,
     "metadata": {},
     "output_type": "execute_result"
    }
   ],
   "source": [
    "# Visual check of raw df\n",
    "data.head()"
   ]
  },
  {
   "cell_type": "code",
   "execution_count": 4,
   "metadata": {},
   "outputs": [],
   "source": [
    "# Drop 'id' column\n",
    "data = data.drop('id', axis=1)"
   ]
  },
  {
   "cell_type": "code",
   "execution_count": 5,
   "metadata": {},
   "outputs": [],
   "source": [
    "# Identify Target Feature\n",
    "target = 'stroke'"
   ]
  },
  {
   "cell_type": "code",
   "execution_count": 6,
   "metadata": {},
   "outputs": [
    {
     "data": {
      "text/plain": [
       "(5110, 11)"
      ]
     },
     "execution_count": 6,
     "metadata": {},
     "output_type": "execute_result"
    }
   ],
   "source": [
    "data.shape"
   ]
  },
  {
   "cell_type": "code",
   "execution_count": 7,
   "metadata": {},
   "outputs": [
    {
     "name": "stdout",
     "output_type": "stream",
     "text": [
      "<class 'pandas.core.frame.DataFrame'>\n",
      "RangeIndex: 5110 entries, 0 to 5109\n",
      "Data columns (total 11 columns):\n",
      " #   Column             Non-Null Count  Dtype  \n",
      "---  ------             --------------  -----  \n",
      " 0   gender             5110 non-null   object \n",
      " 1   age                5110 non-null   float64\n",
      " 2   hypertension       5110 non-null   int64  \n",
      " 3   heart_disease      5110 non-null   int64  \n",
      " 4   ever_married       5110 non-null   object \n",
      " 5   work_type          5110 non-null   object \n",
      " 6   Residence_type     5110 non-null   object \n",
      " 7   avg_glucose_level  5110 non-null   float64\n",
      " 8   bmi                4909 non-null   float64\n",
      " 9   smoking_status     5110 non-null   object \n",
      " 10  stroke             5110 non-null   int64  \n",
      "dtypes: float64(3), int64(3), object(5)\n",
      "memory usage: 439.3+ KB\n"
     ]
    }
   ],
   "source": [
    "data.info()"
   ]
  },
  {
   "cell_type": "code",
   "execution_count": 8,
   "metadata": {},
   "outputs": [
    {
     "data": {
      "text/plain": [
       "gender                 0\n",
       "age                    0\n",
       "hypertension           0\n",
       "heart_disease          0\n",
       "ever_married           0\n",
       "work_type              0\n",
       "Residence_type         0\n",
       "avg_glucose_level      0\n",
       "bmi                  201\n",
       "smoking_status         0\n",
       "stroke                 0\n",
       "dtype: int64"
      ]
     },
     "execution_count": 8,
     "metadata": {},
     "output_type": "execute_result"
    }
   ],
   "source": [
    "data.isnull().sum()"
   ]
  },
  {
   "cell_type": "code",
   "execution_count": 24,
   "metadata": {},
   "outputs": [
    {
     "name": "stdout",
     "output_type": "stream",
     "text": [
      "------------------------------\n",
      "Distribution of Target Feature\n",
      "------------------------------\n",
      "COUNTS:\n",
      "0    4861\n",
      "1     249\n",
      "Name: stroke, dtype: int64\n",
      "- - - - - - - - - - - - - - - \n",
      "PERCENTAGES:\n",
      "0\t95.13%\n",
      "1\t4.873%\n",
      "Name: stroke, dtype: int64\n",
      "------------------------------\n"
     ]
    }
   ],
   "source": [
    "print('-'*30)\n",
    "print('Distribution of Target Feature')\n",
    "print('-'*30)\n",
    "print('COUNTS:')\n",
    "print(data[target].value_counts())\n",
    "print('- '*15)\n",
    "print('PERCENTAGES:')\n",
    "for feature in [norm_value_count for norm_value_count \\\n",
    "                in enumerate(data[target].value_counts(normalize=True))]:\n",
    "    print(f'{feature[0]}\\t{feature[1]*100:.4}%')\n",
    "print(f'Name: {target}, dtype: int64') # just for symmetry\n",
    "print('-'*30)"
   ]
  },
  {
   "cell_type": "code",
   "execution_count": 20,
   "metadata": {},
   "outputs": [
    {
     "name": "stdout",
     "output_type": "stream",
     "text": [
      "------------------------------\n",
      "Distribution of Other Features\n",
      "------------------------------\n",
      "------------------------------\n",
      "UNIQUE VALUES: 3\n",
      "- - - - - - - - - - - - - - - \n",
      "Female    2994\n",
      "Male      2115\n",
      "Other        1\n",
      "Name: gender, dtype: int64\n",
      "------------------------------\n",
      "------------------------------\n",
      "UNIQUE VALUES: 104\n",
      "- - - - - - - - - - - - - - - \n",
      "\t\t  MIN: 0.08\n",
      "\t\t  MEAN: 43.0\n",
      "\t\t  MAX: 82.0\n",
      "Name: age, dtype: float64\n",
      "------------------------------\n",
      "------------------------------\n",
      "UNIQUE VALUES: 2\n",
      "- - - - - - - - - - - - - - - \n",
      "0    4612\n",
      "1     498\n",
      "Name: hypertension, dtype: int64\n",
      "------------------------------\n",
      "------------------------------\n",
      "UNIQUE VALUES: 2\n",
      "- - - - - - - - - - - - - - - \n",
      "0    4834\n",
      "1     276\n",
      "Name: heart_disease, dtype: int64\n",
      "------------------------------\n",
      "------------------------------\n",
      "UNIQUE VALUES: 2\n",
      "- - - - - - - - - - - - - - - \n",
      "Yes    3353\n",
      "No     1757\n",
      "Name: ever_married, dtype: int64\n",
      "------------------------------\n",
      "------------------------------\n",
      "UNIQUE VALUES: 5\n",
      "- - - - - - - - - - - - - - - \n",
      "Private          2925\n",
      "Self-employed     819\n",
      "children          687\n",
      "Govt_job          657\n",
      "Never_worked       22\n",
      "Name: work_type, dtype: int64\n",
      "------------------------------\n",
      "------------------------------\n",
      "UNIQUE VALUES: 2\n",
      "- - - - - - - - - - - - - - - \n",
      "Urban    2596\n",
      "Rural    2514\n",
      "Name: Residence_type, dtype: int64\n",
      "------------------------------\n",
      "------------------------------\n",
      "UNIQUE VALUES: 3979\n",
      "- - - - - - - - - - - - - - - \n",
      "\t\t  MIN: 55.12\n",
      "\t\t  MEAN: 106.0\n",
      "\t\t  MAX: 271.74\n",
      "Name: avg_glucose_level, dtype: float64\n",
      "------------------------------\n",
      "------------------------------\n",
      "UNIQUE VALUES: 419\n",
      "- - - - - - - - - - - - - - - \n",
      "\t\t  MIN: 10.3\n",
      "\t\t  MEAN: 29.0\n",
      "\t\t  MAX: 97.6\n",
      "Name: bmi, dtype: float64\n",
      "------------------------------\n",
      "------------------------------\n",
      "UNIQUE VALUES: 4\n",
      "- - - - - - - - - - - - - - - \n",
      "never smoked       1892\n",
      "Unknown            1544\n",
      "formerly smoked     885\n",
      "smokes              789\n",
      "Name: smoking_status, dtype: int64\n",
      "------------------------------\n"
     ]
    }
   ],
   "source": [
    "show = data.drop(target, axis=1)\n",
    "\n",
    "print(\"-\"*30)\n",
    "print(f'Distribution of Other Features')\n",
    "print(\"-\"*30)\n",
    "for column in show.columns:\n",
    "    print(\"-\"*30)\n",
    "    print(f\"UNIQUE VALUES: {len(show[column].unique())}\")\n",
    "    if len(show[column].unique()) <= 5:\n",
    "        print(\"- \"*15)\n",
    "        print(show[column].value_counts())\n",
    "    else:\n",
    "        if show[column].dtype == 'float64':\n",
    "            print(\"- \"*15)\n",
    "            print(f'\\t\\t  MIN: {show[column].min()}')\n",
    "            print(f'\\t\\t  MEAN: {round(show[column].mean())}')\n",
    "            print(f'\\t\\t  MAX: {show[column].max()}')\n",
    "            print((f'Name: {column}, dtype: float64')) \n",
    "    print(\"-\"*30)"
   ]
  },
  {
   "cell_type": "markdown",
   "metadata": {},
   "source": [
    "# 5. Functions"
   ]
  },
  {
   "cell_type": "code",
   "execution_count": null,
   "metadata": {},
   "outputs": [],
   "source": []
  },
  {
   "cell_type": "code",
   "execution_count": null,
   "metadata": {},
   "outputs": [],
   "source": []
  },
  {
   "cell_type": "code",
   "execution_count": null,
   "metadata": {},
   "outputs": [],
   "source": []
  },
  {
   "cell_type": "code",
   "execution_count": null,
   "metadata": {},
   "outputs": [],
   "source": []
  },
  {
   "cell_type": "code",
   "execution_count": null,
   "metadata": {},
   "outputs": [],
   "source": []
  },
  {
   "cell_type": "markdown",
   "metadata": {},
   "source": [
    "## 4a. Visualizing the raw data\n",
    "\n",
    "# NOTES: Not sure if i should include this or where. I will first need to split and transform my data before doing any visualizations"
   ]
  },
  {
   "cell_type": "markdown",
   "metadata": {},
   "source": [
    "Start with a pairplot. \n",
    "\n",
    "Note: this will automatically only plot non-object features."
   ]
  },
  {
   "cell_type": "code",
   "execution_count": null,
   "metadata": {},
   "outputs": [],
   "source": [
    "sns.pairplot(data, plot_kws={'linewidth':0.1}, diag_kws={'linewidth':0.1, 'alpha':1});"
   ]
  },
  {
   "cell_type": "markdown",
   "metadata": {},
   "source": [
    "Pairplot does not reveal too much for me other than visually showcasing similar distributions of `stroke`, `heart_disease`, and `hypertension`. \n",
    "\n",
    "I will re plot these three features."
   ]
  },
  {
   "cell_type": "code",
   "execution_count": null,
   "metadata": {},
   "outputs": [],
   "source": [
    "# data\n",
    "plots = num[['stroke', 'heart_disease', 'hypertension']]\n",
    "# setup\n",
    "fig, axes = plt.subplots(ncols=3, nrows=1, figsize=(10, 3))\n",
    "fig.set_tight_layout(True)\n",
    "# plot\n",
    "for i, col in enumerate(plots.columns):\n",
    "    sns.histplot(data=plots[col], ax=axes[i], linewidth=0.1, alpha=1, binwidth=.5).set_ylim(0, 5000)"
   ]
  },
  {
   "cell_type": "markdown",
   "metadata": {},
   "source": [
    "NOTES GO HERE"
   ]
  },
  {
   "cell_type": "code",
   "execution_count": 28,
   "metadata": {},
   "outputs": [
    {
     "name": "stdout",
     "output_type": "stream",
     "text": [
      "Probably won't use this but I do not want to delete yet.\n"
     ]
    }
   ],
   "source": [
    "\"\"\"\n",
    "# seperate into numeric and categorical \n",
    "cat = data.select_dtypes(include=object)\n",
    "num = data.select_dtypes(exclude=object)\n",
    "\n",
    "# plot\n",
    "plots = num.drop(target, axis=1)\n",
    "\n",
    "fig, axes = plt.subplots(ncols=5, nrows=1, figsize=(15, 3))\n",
    "fig.set_tight_layout(True)\n",
    "\n",
    "for index, col in enumerate(plots.columns):\n",
    "    ax = axes[index]#//3][index%3]\n",
    "    sns.regplot(x = col, y = target, data = num, ax=ax, line_kws={\"color\": \"tab:red\"})\n",
    "    ax.set_xlabel(col)\n",
    "    ax.set_ylabel(\"Stroke\")\n",
    "\"\"\"\n",
    "print(\"Probably won't use this but I do not want to delete yet.\")"
   ]
  },
  {
   "cell_type": "code",
   "execution_count": null,
   "metadata": {},
   "outputs": [],
   "source": []
  },
  {
   "cell_type": "code",
   "execution_count": null,
   "metadata": {},
   "outputs": [],
   "source": []
  }
 ],
 "metadata": {
  "kernelspec": {
   "display_name": "Python (learn-env)",
   "language": "python",
   "name": "learn-env"
  },
  "language_info": {
   "codemirror_mode": {
    "name": "ipython",
    "version": 3
   },
   "file_extension": ".py",
   "mimetype": "text/x-python",
   "name": "python",
   "nbconvert_exporter": "python",
   "pygments_lexer": "ipython3",
   "version": "3.8.5"
  }
 },
 "nbformat": 4,
 "nbformat_minor": 4
}
