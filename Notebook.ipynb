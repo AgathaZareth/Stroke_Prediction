{
 "cells": [
  {
   "cell_type": "markdown",
   "metadata": {},
   "source": [
    "# TITLE"
   ]
  },
  {
   "cell_type": "markdown",
   "metadata": {},
   "source": [
    "## Final Project Submission\n",
    "\n",
    "Please fill out:\n",
    "* __Student name:__ Cassarra Groesbeck\n",
    "* __Student pace:__ Part Time/ Flex\n",
    "* __Scheduled project review date/time:__ \n",
    "* __Instructor name:__ \n",
    "* __Blog post URL:__\n",
    "\n"
   ]
  },
  {
   "cell_type": "markdown",
   "metadata": {},
   "source": [
    "# 1. Introduction \n",
    "\n",
    "## 1a. Objectives\n",
    "\n",
    "## 1b. Business Understanding"
   ]
  },
  {
   "cell_type": "markdown",
   "metadata": {},
   "source": [
    "# 2. Data Understanding\n",
    "This dataset contains 5110 observations with 12 attributes (11 clinical features) for predicting stroke events. \n",
    "\n",
    "\n",
    "### 2a. Attribute Information\n",
    "| Column     | Description   |\n",
    "|------------|:--------------|\n",
    "| `id`               | **unique identifier**  |\n",
    "| `gender`           | **\"Male\", \"Female\" or \"Other\"**  |\n",
    "| `age`              | **age of the patient** |\n",
    "| `hypertension`     | **0 if the patient doesn't have hypertension, 1 if the patient has hypertension**  |\n",
    "| `heart_disease`    | **0 if the patient doesn't have any heart diseases, 1 if the patient has a heart disease**   |\n",
    "| `ever_married`     | **\"No\" or \"Yes\"**  |\n",
    "| `work_type`        | **\"children\", \"Govt_jov\", \"Never_worked\", \"Private\" or \"Self-employed\"**   |\n",
    "| `Residence_type`   | **\"Rural\" or \"Urban\"**  |\n",
    "| `avg_glucose_level`| **average glucose level in blood**  |\n",
    "| `bmi`              | **body mass index** |\n",
    "| `smoking_status`   | **\"formerly smoked\", \"never smoked\", \"smokes\" or \"Unknown\"***  |\n",
    "| `stroke`           | **1 if the patient had a stroke or 0 if not**  |\n",
    "|    **_*Note:_**      | _\"Unknown\" in_ `smoking_status` _means that the information is unavailable for this patient_ |\n",
    "\n",
    "\n",
    "### 2b. Acknowledgements\n",
    "Data comes from the [Stroke Prediction Dataset](https://www.kaggle.com/datasets/fedesoriano/stroke-prediction-dataset) and can be found on [kaggle](https://www.kaggle.com)."
   ]
  },
  {
   "cell_type": "markdown",
   "metadata": {},
   "source": [
    "# 3. Imports"
   ]
  },
  {
   "cell_type": "code",
   "execution_count": 163,
   "metadata": {},
   "outputs": [],
   "source": [
    "import pandas as pd\n",
    "import numpy as np\n",
    "\n",
    "import matplotlib.pyplot as plt\n",
    "import seaborn as sns\n",
    "#plt.style.use('seaborn')\n",
    "sns.set_style('darkgrid', {'axes.facecolor': '0.9', \"grid.color\": \".6\", \"grid.linestyle\": \":\"})\n",
    "%matplotlib inline\n",
    "\n",
    "from imblearn.over_sampling import SMOTE, SMOTENC\n",
    "from imblearn.pipeline import Pipeline as imbpipeline\n",
    "from imblearn.combine import SMOTETomek\n",
    "\n",
    "from sklearn.linear_model import LogisticRegression\n",
    "from sklearn.tree import DecisionTreeClassifier\n",
    "from sklearn.neighbors import KNeighborsClassifier\n",
    "from sklearn.model_selection import train_test_split, cross_val_score, StratifiedKFold, GridSearchCV\n",
    "from sklearn.preprocessing import StandardScaler, OneHotEncoder\n",
    "from sklearn.compose import ColumnTransformer\n",
    "from sklearn.experimental import enable_iterative_imputer\n",
    "from sklearn.impute import IterativeImputer, SimpleImputer\n",
    "from sklearn.pipeline import Pipeline, FeatureUnion\n",
    "from sklearn.metrics import confusion_matrix, plot_confusion_matrix,\\\n",
    "    precision_score, recall_score, accuracy_score, f1_score, log_loss,\\\n",
    "    roc_curve, roc_auc_score, classification_report, plot_roc_curve, auc\n",
    "\n",
    "import warnings\n",
    "warnings.filterwarnings('ignore')"
   ]
  },
  {
   "cell_type": "markdown",
   "metadata": {},
   "source": [
    "# 4. Exploring the data"
   ]
  },
  {
   "cell_type": "markdown",
   "metadata": {},
   "source": [
    "### 4a. Load and visually check the data"
   ]
  },
  {
   "cell_type": "code",
   "execution_count": 2,
   "metadata": {},
   "outputs": [],
   "source": [
    "data = pd.read_csv('Data/healthcare-dataset-stroke-data.csv')"
   ]
  },
  {
   "cell_type": "code",
   "execution_count": 3,
   "metadata": {},
   "outputs": [
    {
     "data": {
      "text/html": [
       "<div>\n",
       "<style scoped>\n",
       "    .dataframe tbody tr th:only-of-type {\n",
       "        vertical-align: middle;\n",
       "    }\n",
       "\n",
       "    .dataframe tbody tr th {\n",
       "        vertical-align: top;\n",
       "    }\n",
       "\n",
       "    .dataframe thead th {\n",
       "        text-align: right;\n",
       "    }\n",
       "</style>\n",
       "<table border=\"1\" class=\"dataframe\">\n",
       "  <thead>\n",
       "    <tr style=\"text-align: right;\">\n",
       "      <th></th>\n",
       "      <th>id</th>\n",
       "      <th>gender</th>\n",
       "      <th>age</th>\n",
       "      <th>hypertension</th>\n",
       "      <th>heart_disease</th>\n",
       "      <th>ever_married</th>\n",
       "      <th>work_type</th>\n",
       "      <th>Residence_type</th>\n",
       "      <th>avg_glucose_level</th>\n",
       "      <th>bmi</th>\n",
       "      <th>smoking_status</th>\n",
       "      <th>stroke</th>\n",
       "    </tr>\n",
       "  </thead>\n",
       "  <tbody>\n",
       "    <tr>\n",
       "      <th>0</th>\n",
       "      <td>9046</td>\n",
       "      <td>Male</td>\n",
       "      <td>67.0</td>\n",
       "      <td>0</td>\n",
       "      <td>1</td>\n",
       "      <td>Yes</td>\n",
       "      <td>Private</td>\n",
       "      <td>Urban</td>\n",
       "      <td>228.69</td>\n",
       "      <td>36.6</td>\n",
       "      <td>formerly smoked</td>\n",
       "      <td>1</td>\n",
       "    </tr>\n",
       "    <tr>\n",
       "      <th>1</th>\n",
       "      <td>51676</td>\n",
       "      <td>Female</td>\n",
       "      <td>61.0</td>\n",
       "      <td>0</td>\n",
       "      <td>0</td>\n",
       "      <td>Yes</td>\n",
       "      <td>Self-employed</td>\n",
       "      <td>Rural</td>\n",
       "      <td>202.21</td>\n",
       "      <td>NaN</td>\n",
       "      <td>never smoked</td>\n",
       "      <td>1</td>\n",
       "    </tr>\n",
       "    <tr>\n",
       "      <th>2</th>\n",
       "      <td>31112</td>\n",
       "      <td>Male</td>\n",
       "      <td>80.0</td>\n",
       "      <td>0</td>\n",
       "      <td>1</td>\n",
       "      <td>Yes</td>\n",
       "      <td>Private</td>\n",
       "      <td>Rural</td>\n",
       "      <td>105.92</td>\n",
       "      <td>32.5</td>\n",
       "      <td>never smoked</td>\n",
       "      <td>1</td>\n",
       "    </tr>\n",
       "    <tr>\n",
       "      <th>3</th>\n",
       "      <td>60182</td>\n",
       "      <td>Female</td>\n",
       "      <td>49.0</td>\n",
       "      <td>0</td>\n",
       "      <td>0</td>\n",
       "      <td>Yes</td>\n",
       "      <td>Private</td>\n",
       "      <td>Urban</td>\n",
       "      <td>171.23</td>\n",
       "      <td>34.4</td>\n",
       "      <td>smokes</td>\n",
       "      <td>1</td>\n",
       "    </tr>\n",
       "    <tr>\n",
       "      <th>4</th>\n",
       "      <td>1665</td>\n",
       "      <td>Female</td>\n",
       "      <td>79.0</td>\n",
       "      <td>1</td>\n",
       "      <td>0</td>\n",
       "      <td>Yes</td>\n",
       "      <td>Self-employed</td>\n",
       "      <td>Rural</td>\n",
       "      <td>174.12</td>\n",
       "      <td>24.0</td>\n",
       "      <td>never smoked</td>\n",
       "      <td>1</td>\n",
       "    </tr>\n",
       "  </tbody>\n",
       "</table>\n",
       "</div>"
      ],
      "text/plain": [
       "      id  gender   age  hypertension  heart_disease ever_married  \\\n",
       "0   9046    Male  67.0             0              1          Yes   \n",
       "1  51676  Female  61.0             0              0          Yes   \n",
       "2  31112    Male  80.0             0              1          Yes   \n",
       "3  60182  Female  49.0             0              0          Yes   \n",
       "4   1665  Female  79.0             1              0          Yes   \n",
       "\n",
       "       work_type Residence_type  avg_glucose_level   bmi   smoking_status  \\\n",
       "0        Private          Urban             228.69  36.6  formerly smoked   \n",
       "1  Self-employed          Rural             202.21   NaN     never smoked   \n",
       "2        Private          Rural             105.92  32.5     never smoked   \n",
       "3        Private          Urban             171.23  34.4           smokes   \n",
       "4  Self-employed          Rural             174.12  24.0     never smoked   \n",
       "\n",
       "   stroke  \n",
       "0       1  \n",
       "1       1  \n",
       "2       1  \n",
       "3       1  \n",
       "4       1  "
      ]
     },
     "execution_count": 3,
     "metadata": {},
     "output_type": "execute_result"
    }
   ],
   "source": [
    "# Visual check of raw df\n",
    "data.head()"
   ]
  },
  {
   "cell_type": "markdown",
   "metadata": {},
   "source": [
    "### 4b. Drop unnecessary column, and identify target feature"
   ]
  },
  {
   "cell_type": "code",
   "execution_count": 4,
   "metadata": {},
   "outputs": [],
   "source": [
    "# Drop 'id' column\n",
    "data = data.drop('id', axis=1)"
   ]
  },
  {
   "cell_type": "code",
   "execution_count": 5,
   "metadata": {},
   "outputs": [],
   "source": [
    "# Identify Target Feature\n",
    "target = 'stroke'"
   ]
  },
  {
   "cell_type": "markdown",
   "metadata": {},
   "source": [
    "### 4c. The basics"
   ]
  },
  {
   "cell_type": "code",
   "execution_count": 6,
   "metadata": {},
   "outputs": [
    {
     "data": {
      "text/plain": [
       "(5110, 11)"
      ]
     },
     "execution_count": 6,
     "metadata": {},
     "output_type": "execute_result"
    }
   ],
   "source": [
    "data.shape"
   ]
  },
  {
   "cell_type": "code",
   "execution_count": 7,
   "metadata": {},
   "outputs": [
    {
     "name": "stdout",
     "output_type": "stream",
     "text": [
      "<class 'pandas.core.frame.DataFrame'>\n",
      "RangeIndex: 5110 entries, 0 to 5109\n",
      "Data columns (total 11 columns):\n",
      " #   Column             Non-Null Count  Dtype  \n",
      "---  ------             --------------  -----  \n",
      " 0   gender             5110 non-null   object \n",
      " 1   age                5110 non-null   float64\n",
      " 2   hypertension       5110 non-null   int64  \n",
      " 3   heart_disease      5110 non-null   int64  \n",
      " 4   ever_married       5110 non-null   object \n",
      " 5   work_type          5110 non-null   object \n",
      " 6   Residence_type     5110 non-null   object \n",
      " 7   avg_glucose_level  5110 non-null   float64\n",
      " 8   bmi                4909 non-null   float64\n",
      " 9   smoking_status     5110 non-null   object \n",
      " 10  stroke             5110 non-null   int64  \n",
      "dtypes: float64(3), int64(3), object(5)\n",
      "memory usage: 439.3+ KB\n"
     ]
    }
   ],
   "source": [
    "data.info()"
   ]
  },
  {
   "cell_type": "code",
   "execution_count": 8,
   "metadata": {},
   "outputs": [
    {
     "data": {
      "text/plain": [
       "gender                 0\n",
       "age                    0\n",
       "hypertension           0\n",
       "heart_disease          0\n",
       "ever_married           0\n",
       "work_type              0\n",
       "Residence_type         0\n",
       "avg_glucose_level      0\n",
       "bmi                  201\n",
       "smoking_status         0\n",
       "stroke                 0\n",
       "dtype: int64"
      ]
     },
     "execution_count": 8,
     "metadata": {},
     "output_type": "execute_result"
    }
   ],
   "source": [
    "data.isnull().sum()"
   ]
  },
  {
   "cell_type": "markdown",
   "metadata": {},
   "source": [
    "### 4d. Exploring nulls"
   ]
  },
  {
   "cell_type": "code",
   "execution_count": 9,
   "metadata": {},
   "outputs": [
    {
     "data": {
      "text/plain": [
       "'3.93%'"
      ]
     },
     "execution_count": 9,
     "metadata": {},
     "output_type": "execute_result"
    }
   ],
   "source": [
    "# percent of missing data\n",
    "f'{(201/5110)*100:.3}%'"
   ]
  },
  {
   "cell_type": "code",
   "execution_count": 10,
   "metadata": {},
   "outputs": [
    {
     "data": {
      "text/plain": [
       "0    161\n",
       "1     40\n",
       "Name: stroke, dtype: int64"
      ]
     },
     "execution_count": 10,
     "metadata": {},
     "output_type": "execute_result"
    }
   ],
   "source": [
    "# just the nulls\n",
    "bmi_nulls = data[data['bmi'].isnull()]\n",
    "# `stroke` patients with missing `bmi` data\n",
    "bmi_nulls['stroke'].value_counts()"
   ]
  },
  {
   "cell_type": "markdown",
   "metadata": {},
   "source": [
    "### 4e. Distribution of values"
   ]
  },
  {
   "cell_type": "code",
   "execution_count": 11,
   "metadata": {},
   "outputs": [
    {
     "name": "stdout",
     "output_type": "stream",
     "text": [
      "------------------------------\n",
      "Distribution of Target Feature\n",
      "------------------------------\n",
      "COUNTS:\n",
      "0    4861\n",
      "1     249\n",
      "Name: stroke, dtype: int64\n",
      "- - - - - - - - - - - - - - - \n",
      "PERCENTAGES:\n",
      "0\t95.13%\n",
      "1\t4.873%\n",
      "Name: stroke, dtype: int64\n",
      "------------------------------\n"
     ]
    }
   ],
   "source": [
    "print('-'*30)\n",
    "print('Distribution of Target Feature')\n",
    "print('-'*30)\n",
    "print('COUNTS:')\n",
    "print(data[target].value_counts())\n",
    "print('- '*15)\n",
    "print('PERCENTAGES:')\n",
    "for value in [norm_value_count for norm_value_count \\\n",
    "                in enumerate(data[target].value_counts(normalize=True))]:\n",
    "    print(f'{value[0]}\\t{value[1]*100:.4}%')\n",
    "print(f'Name: {target}, dtype: int64') # just for symmetry\n",
    "print('-'*30)"
   ]
  },
  {
   "cell_type": "code",
   "execution_count": 12,
   "metadata": {},
   "outputs": [
    {
     "name": "stdout",
     "output_type": "stream",
     "text": [
      "------------------------------\n",
      "Distribution of Other Features\n",
      "------------------------------\n",
      "------------------------------\n",
      "UNIQUE VALUES: 3\n",
      "- - - - - - - - - - - - - - - \n",
      "Female    2994\n",
      "Male      2115\n",
      "Other        1\n",
      "Name: gender, dtype: int64\n",
      "------------------------------\n",
      "------------------------------\n",
      "UNIQUE VALUES: 104\n",
      "- - - - - - - - - - - - - - - \n",
      "\t\t  MIN: 0.08\n",
      "\t\t  MEAN: 43.0\n",
      "\t\t  MAX: 82.0\n",
      "Name: age, dtype: float64\n",
      "------------------------------\n",
      "------------------------------\n",
      "UNIQUE VALUES: 2\n",
      "- - - - - - - - - - - - - - - \n",
      "0    4612\n",
      "1     498\n",
      "Name: hypertension, dtype: int64\n",
      "------------------------------\n",
      "------------------------------\n",
      "UNIQUE VALUES: 2\n",
      "- - - - - - - - - - - - - - - \n",
      "0    4834\n",
      "1     276\n",
      "Name: heart_disease, dtype: int64\n",
      "------------------------------\n",
      "------------------------------\n",
      "UNIQUE VALUES: 2\n",
      "- - - - - - - - - - - - - - - \n",
      "Yes    3353\n",
      "No     1757\n",
      "Name: ever_married, dtype: int64\n",
      "------------------------------\n",
      "------------------------------\n",
      "UNIQUE VALUES: 5\n",
      "- - - - - - - - - - - - - - - \n",
      "Private          2925\n",
      "Self-employed     819\n",
      "children          687\n",
      "Govt_job          657\n",
      "Never_worked       22\n",
      "Name: work_type, dtype: int64\n",
      "------------------------------\n",
      "------------------------------\n",
      "UNIQUE VALUES: 2\n",
      "- - - - - - - - - - - - - - - \n",
      "Urban    2596\n",
      "Rural    2514\n",
      "Name: Residence_type, dtype: int64\n",
      "------------------------------\n",
      "------------------------------\n",
      "UNIQUE VALUES: 3979\n",
      "- - - - - - - - - - - - - - - \n",
      "\t\t  MIN: 55.12\n",
      "\t\t  MEAN: 106.0\n",
      "\t\t  MAX: 271.74\n",
      "Name: avg_glucose_level, dtype: float64\n",
      "------------------------------\n",
      "------------------------------\n",
      "UNIQUE VALUES: 419\n",
      "- - - - - - - - - - - - - - - \n",
      "\t\t  MIN: 10.3\n",
      "\t\t  MEAN: 29.0\n",
      "\t\t  MAX: 97.6\n",
      "Name: bmi, dtype: float64\n",
      "------------------------------\n",
      "------------------------------\n",
      "UNIQUE VALUES: 4\n",
      "- - - - - - - - - - - - - - - \n",
      "never smoked       1892\n",
      "Unknown            1544\n",
      "formerly smoked     885\n",
      "smokes              789\n",
      "Name: smoking_status, dtype: int64\n",
      "------------------------------\n"
     ]
    }
   ],
   "source": [
    "show = data.drop(target, axis=1)\n",
    "\n",
    "print(\"-\"*30)\n",
    "print(f'Distribution of Other Features')\n",
    "print(\"-\"*30)\n",
    "for column in show.columns:\n",
    "    print(\"-\"*30)\n",
    "    print(f\"UNIQUE VALUES: {len(show[column].unique())}\")\n",
    "    if len(show[column].unique()) <= 5:\n",
    "        print(\"- \"*15)\n",
    "        print(show[column].value_counts())\n",
    "    else:\n",
    "        print(\"- \"*15)\n",
    "        print(f'\\t\\t  MIN: {show[column].min()}')\n",
    "        print(f'\\t\\t  MEAN: {round(show[column].mean())}')\n",
    "        print(f'\\t\\t  MAX: {show[column].max()}')\n",
    "        print((f'Name: {column}, dtype: float64')) \n",
    "    print(\"-\"*30)"
   ]
  },
  {
   "cell_type": "markdown",
   "metadata": {},
   "source": [
    "#### Visualization of above distributions "
   ]
  },
  {
   "cell_type": "code",
   "execution_count": 39,
   "metadata": {},
   "outputs": [
    {
     "data": {
      "image/png": "[encoded data removed]",
      "text/plain": [
       "<Figure size 864x720 with 12 Axes>"
      ]
     },
     "metadata": {
      "needs_background": "light"
     },
     "output_type": "display_data"
    }
   ],
   "source": [
    "# setup\n",
    "fig, axes = plt.subplots(ncols=4, nrows=3, figsize=(12, 10))\n",
    "fig.set_tight_layout(True)\n",
    "# plot\n",
    "for index, col in enumerate(data.columns):\n",
    "    ax = axes[index//4][index%4]\n",
    "    sns.histplot(data=data[col], ax=ax, linewidth=0.1, alpha=1)\n",
    "    ax.tick_params(axis='x', rotation=60)"
   ]
  },
  {
   "cell_type": "markdown",
   "metadata": {},
   "source": [
    "### 4f. Findings\n",
    "\n",
    "- `gender`\n",
    " - There is only 1 'other' value, for simplicity I will drop this 1 row.\n",
    " - About 1000 more women than men in this dataset.\n",
    "- `age`\n",
    " - The youngest patient is under 1 yo.\n",
    " - Oldest patient is 82.\n",
    " - Average age of patients in this dataset are 43 years old. \n",
    "- `hypertension`\n",
    " - Binary, 1 if the patient has hypertension.\n",
    " - Very similar distribution as target feature.\n",
    "- `heart_disease`\n",
    " - Binary, 1 if the patient has heart disease.\n",
    " - Almost identical distribution as target feature.\n",
    " - I am curious how `hypertension` & `heart_disease` will correlate with eachother. \n",
    "- `ever_married`\n",
    " - About 65/35 split with majority of patients listed as 'Yes.'\n",
    "- `work_type`\n",
    " - Only 5 categories. Not surprisingly, more than half answered 'Private.'\n",
    " - Other 4 make up little more than 40%.\n",
    " - 'Never_worked' is less than 1%.\n",
    "- `Residence_type`\n",
    " - Almost 50/50 split between 'Urban' and 'Rural.'\n",
    "- `avg_glucose_level` & `bmi` \n",
    " - continuous features that are both skewed to the right.\n",
    " - `bmi` is missing 201 values (3.93%). Of those missing values, 40 are stroke patients.\n",
    "- `smoking_status`\n",
    " - about 30% of patients are listed as 'Unknown.'\n"
   ]
  },
  {
   "cell_type": "markdown",
   "metadata": {},
   "source": [
    "# 5. Split the data"
   ]
  },
  {
   "cell_type": "markdown",
   "metadata": {},
   "source": [
    "### 5a. Separate data into features (X) and target (y)"
   ]
  },
  {
   "cell_type": "code",
   "execution_count": 35,
   "metadata": {},
   "outputs": [],
   "source": [
    "X = data.drop(target, axis = 1)\n",
    "y = data[target]"
   ]
  },
  {
   "cell_type": "markdown",
   "metadata": {},
   "source": [
    "### 5a. Split data into train and test sets"
   ]
  },
  {
   "cell_type": "code",
   "execution_count": 36,
   "metadata": {},
   "outputs": [],
   "source": [
    "X_train, X_test, y_train, y_test = train_test_split(X, \n",
    "                                                    y, \n",
    "                                                    stratify=y, \n",
    "                                                    test_size=.2, \n",
    "                                                    random_state=42)"
   ]
  },
  {
   "cell_type": "markdown",
   "metadata": {},
   "source": [
    "# 6. Functions"
   ]
  },
  {
   "cell_type": "markdown",
   "metadata": {},
   "source": [
    "### 6something. Monster Function"
   ]
  },
  {
   "cell_type": "code",
   "execution_count": 276,
   "metadata": {},
   "outputs": [
    {
     "name": "stdout",
     "output_type": "stream",
     "text": [
      "DecisionTreeClassifier(random_state=42)\n",
      "SimpleImputer()\n",
      "SMOTENC(categorical_features=[0, 4, 5, 6, 9], random_state=42)\n"
     ]
    }
   ],
   "source": [
    "def test_check_model(model,\n",
    "                     data=data, \n",
    "                     target=target, \n",
    "                     test_size=.20, \n",
    "                     random_state=42, \n",
    "                     imputer=None,\n",
    "                     smote=None,             \n",
    "                     scaler=None,\n",
    "                     grid_search=True,\n",
    "                     param_dict=None,\n",
    "                     use_test_data=False, \n",
    "                     show_thresholds_table=False,  \n",
    "                     show_plots=False,\n",
    "                     display_labels=None):\n",
    "    \n",
    "    \"\"\"   \n",
    "    Uses sklearn.model_selection.train_test_split to divide data into train and test sets, \n",
    "    sklearn.preprocessing.StandardScaler to scale data,\n",
    "    sklearn.model_selection.GridSearchCV -or- sklearn.model_selection.RandomizedSearchCV to \n",
    "    search best paramaeters for model. \n",
    "    Option to specify use of Test data for outputs.\n",
    "    \n",
    "    \n",
    "    Output\n",
    "    ---------- \n",
    "    (optional) Classification Report\n",
    "    (optional) Thresholds, FPRs, TPRs Stats Table with AUC score\n",
    "    (optional) Plots Confusion matrix and if available an ROC curve\n",
    "    \n",
    "    \n",
    "    Returns\n",
    "    ----------\n",
    "    Accuracy, Precision, and Recall scores\n",
    "    \n",
    "    \n",
    "    Parameters\n",
    "    ----------\n",
    " \n",
    "    model : supervised learning model to be evaluated. \n",
    "    \n",
    "    pipe_grid_param_dict : dict or list of dictionaries\n",
    "        sklearn.model_selection.GridSearchCV parameter: \n",
    "            Dictionary with parameters names (`str`) as keys and lists of\n",
    "            parameter settings to try as values, or a list of such\n",
    "            dictionaries, in which case the grids spanned by each dictionary\n",
    "            in the list are explored. This enables searching over any sequence\n",
    "            of parameter settings.\n",
    "    \n",
    "    data : pandas data frame, default=data\n",
    "    \n",
    "    target : string or variable set to a string, default=target\n",
    "    \n",
    "    test_size : float or int, default=.20\n",
    "        sklearn.model_selection.train_test_split parameter:\n",
    "            If float, should be between 0.0 and 1.0 and represent the proportion\n",
    "            of the dataset to include in the test split. If int, represents the\n",
    "            absolute number of test samples.\n",
    "    \n",
    "    random_state : int or RandomState instance, default=42\n",
    "        Controls the shuffling applied to the data before applying the split.\n",
    "        Pass an int for reproducible output across multiple function calls.\n",
    "\n",
    "    use_test_data : boolean True or False, default=False\n",
    "        determines the data used to asses model performance\n",
    "    \n",
    "    show_thresholds_report : boolean True or False, default=False\n",
    "        Print table with AUC score, Thresholds, FPR's and TPR's\n",
    "    \n",
    "    show_plots : boolean True or False, default=False\n",
    "        If target variable is binary, plots Confusion Matrix and ROC curve.\n",
    "        Otherwise just Confusion Matrix\n",
    "    \n",
    "    display_labels : list or 'None', default=None\n",
    "        If the target is binary 0,1 the labels can be changed to more descriptive labels. \n",
    "        example: ['Healthy', 'HeartDisease']\n",
    "\n",
    "    \"\"\"\n",
    "    \n",
    "    \n",
    "    ######################################################################\n",
    "    # 1. SEPARATE AND SPLIT DATA                                         #\n",
    "    ######################################################################    \n",
    "    \n",
    "    \n",
    "    # 1. Separate data into features and target \n",
    "    X = data.drop(target, axis = 1)\n",
    "    y = data[target]\n",
    "    \n",
    "    \n",
    "    # 1. Split data into train and test sets\n",
    "    X_train, X_test, y_train, y_test = train_test_split(X, \n",
    "                                                        y, \n",
    "                                                        stratify=y, \n",
    "                                                        test_size=test_size, \n",
    "                                                        random_state=random_state)\n",
    "\n",
    "        \n",
    "    ######################################################################\n",
    "    # 2. TRANSFORM DATA PIPELINE                                         #\n",
    "    ######################################################################   \n",
    "    \n",
    "    \n",
    "    # 2a. Seperate by type of data\n",
    "    X_train_nums = X_train.select_dtypes('float64')\n",
    "    X_train_cat = X_train.select_dtypes('object')\n",
    "\n",
    "\n",
    "    # 2b. Pipeline 1 (numerical data)\n",
    "    numerical_pipeline = Pipeline(steps=[\n",
    "        ('ss', scaler)])\n",
    "    \n",
    "    \n",
    "    # 2c. Pipeline 2 (categorical data)  \n",
    "    categorical_pipeline = Pipeline(steps=[\n",
    "        ('ohe', OneHotEncoder(sparse=False, handle_unknown='ignore'))])\n",
    "\n",
    "\n",
    "    # 2d. Converge pipelines 1 & 2\n",
    "    trans = ColumnTransformer(transformers=[\n",
    "        ('numerical', numerical_pipeline, X_train_nums.columns),\n",
    "        ('categorical', categorical_pipeline, X_train_cat.columns)])\n",
    "        \n",
    "    \n",
    "    # 2e. Model with converged pipeline\n",
    "    model_pipe = imbpipeline(steps=[\n",
    "        ('trans', trans),\n",
    "        ('imputer', imputer),\n",
    "        ('smote', smote),\n",
    "        ('model', model)])\n",
    "\n",
    "    \n",
    "    ######################################################################\n",
    "    # 3. GRID SEARCH PIPELINE                                            #\n",
    "    ######################################################################   \n",
    "    \n",
    "\n",
    "    # 3a. Determine if using gridsearch\n",
    "    if grid_search:\n",
    "        best_model = GridSearchCV(estimator=model_pipe, \n",
    "                           param_grid=param_dict, \n",
    "                           scoring='recall', \n",
    "                           cv=3)\n",
    "\n",
    "    # fit the model to evaluate\n",
    "        fit_model = best_model.fit(X_train, y_train) \n",
    "    \n",
    "    else: \n",
    "        fit_model = model_pipe.fit(X_train, y_train) \n",
    "   \n",
    "\n",
    "    \n",
    "    ######################################################################\n",
    "    # 3. PRINT MODEL DETAILS                                             #\n",
    "    ######################################################################\n",
    "\n",
    "    # 3a. Determine if using GridSearch\n",
    "    if grid_search:\n",
    "        \"\"\"\n",
    "        Use .best_params_ dict and reformat to print the same way \n",
    "        classifiers/scalers/imputers etc are instantiated.\n",
    "        \n",
    "        \n",
    "        Example: \n",
    "        ----------\n",
    "        \n",
    "           .best_params_ = {'model__criterion': 'gini', \n",
    "                            'model__max_depth': 6, \n",
    "                            'scaler__with_mean': True} \n",
    "\n",
    "            prints as: \n",
    "                DecisionTreeClassifier(criterion='gini', max_depth=6) \n",
    "                StandardScaler(with_mean=True)\n",
    "        \"\"\"\n",
    "        \n",
    "        kind_of_params = {}\n",
    "        for k,v in fit_model.best_params_.items():\n",
    "            key = k.split(\"__\")[0]\n",
    "            if key not in kind_of_params.keys():\n",
    "                kind_of_params[key] = \"\" \n",
    "            if k.split(\"__\")[1] == 'solver':\n",
    "                kind_of_params[key] += k.split(\"__\")[1]+\"='\"+str(v)+\"', \" # solver has qoutes around it\n",
    "            elif k.split(\"__\")[1] == 'criterion':\n",
    "                kind_of_params[key] += k.split(\"__\")[1]+\"='\"+str(v)+\"', \" # criterion has qoutes around it\n",
    "            else: \n",
    "                kind_of_params[key] += k.split(\"__\")[1]+\"=\"+str(v)+\", \" #<-- notice comma\n",
    "\n",
    "\n",
    "        # Remove extra comma at end of each value, to display as: param1=value, ..., paramN=value\n",
    "        for k, v in kind_of_params.items():\n",
    "            kind_of_params[k] = v[:-2]\n",
    "\n",
    "\n",
    "        # Use new kind_of_params dict to print: ex. DecisionTreeClassifier(criterion='gini')\n",
    "        if 'model' in  kind_of_params.keys():\n",
    "            model_text = str(model).split(\")\")[0]+\", \"+kind_of_params['model']+\")\"\n",
    "            print(model_text) # <-- To display: Model(param1=value, ..., paramN=value)\n",
    "        else:\n",
    "            print(model) # otherwise, use what was fed into function\n",
    "\n",
    "   \n",
    "        if 'imputer' in kind_of_params.keys():\n",
    "            imputer_text = str(imputer).split(\"()\")[0]+\"(\"+kind_of_params['imputer']+\")\"\n",
    "            print(imputer_text)\n",
    "        else:\n",
    "            print(imputer)\n",
    "\n",
    "\n",
    "        if scaler != None:\n",
    "            if 'scaler' in kind_of_params.keys():\n",
    "                scaler_text = str(scaler).split(\"()\")[0]+\"(\"+kind_of_params['scaler']+\")\"\n",
    "                print(scaler_text) \n",
    "            else:\n",
    "                print(scaler)  \n",
    "\n",
    "\n",
    "        if smote != None:\n",
    "            if 'smote' in kind_of_params.keys():\n",
    "                smote_text = str(smote).split(\")\")[0]+\", \"+kind_of_params['smote']+\")\"\n",
    "                print(smote_text)\n",
    "            else:\n",
    "                print(smote)\n",
    "\n",
    "    else: # if bypassing GridSearch \n",
    "        \n",
    "        # model & imputer\n",
    "        print(model) # <-- use what was fed into function, example: DecisionTreeClassifier()\n",
    "        print(imputer)\n",
    "\n",
    "        # Determine if scaler and/or smote used  \n",
    "        if scaler != None:  \n",
    "            print(scaler)\n",
    "        if smote != None:\n",
    "            print(smote)\n",
    "            \n",
    "    # 3b. To display type of data  \n",
    "    if use_test_data:\n",
    "        data_used_text = \"Test\"\n",
    "    else:\n",
    "        data_used_text = \"Training\"\n",
    "    \n",
    "    print(f'\\nModel evaluated with {data_used_text} data\\n')\n"
   ]
  },
  {
   "cell_type": "code",
   "execution_count": null,
   "metadata": {},
   "outputs": [],
   "source": []
  },
  {
   "cell_type": "code",
   "execution_count": 249,
   "metadata": {},
   "outputs": [
    {
     "data": {
      "text/plain": [
       "StandardScaler()"
      ]
     },
     "execution_count": 249,
     "metadata": {},
     "output_type": "execute_result"
    }
   ],
   "source": [
    "scaler"
   ]
  },
  {
   "cell_type": "code",
   "execution_count": null,
   "metadata": {},
   "outputs": [],
   "source": []
  },
  {
   "cell_type": "code",
   "execution_count": null,
   "metadata": {},
   "outputs": [],
   "source": []
  },
  {
   "cell_type": "code",
   "execution_count": null,
   "metadata": {},
   "outputs": [],
   "source": []
  },
  {
   "cell_type": "code",
   "execution_count": null,
   "metadata": {},
   "outputs": [],
   "source": []
  },
  {
   "cell_type": "code",
   "execution_count": null,
   "metadata": {},
   "outputs": [],
   "source": []
  },
  {
   "cell_type": "code",
   "execution_count": 40,
   "metadata": {},
   "outputs": [
    {
     "name": "stdout",
     "output_type": "stream",
     "text": [
      "ran\n"
     ]
    }
   ],
   "source": [
    " \n",
    "    ######################################################################\n",
    "    # 4. (Optional) CLASSIFICATION REPORT                                #\n",
    "    ######################################################################\n",
    "\n",
    "    \n",
    "    # 4a. Determine if using test data for model evaluation\n",
    "    if use_test_data:\n",
    "        X_true = X_test\n",
    "        y_true = y_test\n",
    "    else: \n",
    "        X_true = X_train\n",
    "        y_true = y_train\n",
    "        \n",
    "        \n",
    "    # 4b. Make predictions and print report \n",
    "    y_preds = fit_model.predict(X_true)\n",
    "    cr = classification_report(y_true, y_preds, digits=4)\n",
    "    \n",
    "    print('-'*54)\n",
    "    print('\\t\\tCLASSIFICATION REPORT')\n",
    "    print('-'*54)\n",
    "    print(cr)\n",
    "    print('-'*54)\n",
    "        \n",
    "        \n",
    "    ######################################################################\n",
    "    # 5. Optional. THRESHOLDS TABLE                                      #\n",
    "    ######################################################################   \n",
    "   \n",
    "     if show_thresholds_table:\n",
    "        \n",
    "        # Calculate the probability scores\n",
    "        if ('LogisticReg' in str(model)):\n",
    "            y_score = fit_model.decision_function(X_true) \n",
    "            fpr, tpr, thresholds = roc_curve(y_true, y_score)\n",
    "        else:\n",
    "            y_score = fit_model.predict_proba(X_true)\n",
    "            fpr, tpr, thresholds = roc_curve(y_true, y_score[:,1]) # <-- probability of Class 1\n",
    "\n",
    "        # To display as: THRESHOLD: value | FPR: percent%, TPR:percent%\n",
    "        thresh_fp_tp = list(zip(thresholds, fpr, tpr))\n",
    "        these_to_print = [f'THRESHOLD: {e[0]:.2f} | FPR: {e[1]:.2%}, TPR:{e[2]:.2%}' \\\n",
    "                          for e in thresh_fp_tp]        \n",
    "        auc = auc(fpr, tpr)\n",
    "        \n",
    "        # Print the table\n",
    "        print('-'*54)\n",
    "        print('\\t\\t  THRESHOLD STATS')\n",
    "        print('-'*54)\n",
    "        print(f'AUC: {auc}')\n",
    "        print('- '*23)\n",
    "        for element in these_to_print:\n",
    "            print(element)\n",
    "        print('-'*54)\n",
    "\n",
    "\n",
    "    ######################################################################\n",
    "    # Optional. VISUALIZATIONS                                           #\n",
    "    ######################################################################\n",
    "    \n",
    "    if show_plots: \n",
    "        if ('LogisticReg' in str(model)) & (data[target].nunique()==2):\n",
    "            # Figure set up\n",
    "            plt.style.use('fivethirtyeight')\n",
    "            fig, axes = plt.subplots(nrows=1, ncols=2, figsize=(13, 5)) \n",
    "            \n",
    "            # Get title(s)\n",
    "            if 'model' in  kind_of_params.keys():\n",
    "                title = display_model_text # Model(param1=value, ..., paramN=value)\n",
    "            else:\n",
    "                title = model # Model() <--empty, default params\n",
    "\n",
    "            \n",
    "            # Set title(s)\n",
    "            if scaler == None:\n",
    "                fig.suptitle(f'Model: {title}', color='tab:blue', size=14)\n",
    "            else:\n",
    "                if 'scaler' in kind_of_params.keys():\n",
    "                    title_part_2 = display_scaler_text # Scaler(param1=value, ..., paramN=value) \n",
    "                else: \n",
    "                    title_part_2 = scaler # Scaler()\n",
    "                    \n",
    "                fig.suptitle(f'Model: {title}, {title_part_2}', color='tab:blue', size=14)\n",
    "            \n",
    "                \n",
    "            # Left  \n",
    "            axes[0].set_title(\"Confusion Matrix\", size=15)  \n",
    "            axes[0].grid(False)\n",
    "            plot_confusion_matrix(fit_model, X_true, y_true, \n",
    "                                  cmap=plt.cm.Blues, \n",
    "                                  ax=axes[0], \n",
    "                                  display_labels=display_labels)\n",
    "\n",
    "            # Right \n",
    "            axes[1].set_title(\"ROC Curve\", size=15)\n",
    "            plot_roc_curve(fit_model, X_true, y_true, ax=axes[1]);\n",
    "\n",
    "\n",
    "            \n",
    "        else:  \n",
    "            # Figure set up\n",
    "            plt.style.use('fivethirtyeight')\n",
    "            fig, ax = plt.subplots(figsize=(8, 4)) \n",
    "            ax.set_title(\"Confusion Matrix\")\n",
    "            ax.grid(False)\n",
    "            \n",
    "            plot_confusion_matrix(fit_model, X_true, y_true, \n",
    "                                      cmap=plt.cm.Blues, ax=ax, display_labels=display_labels);\n",
    "\n",
    "print(\"ran\")"
   ]
  },
  {
   "cell_type": "code",
   "execution_count": null,
   "metadata": {},
   "outputs": [],
   "source": []
  }
 ],
 "metadata": {
  "kernelspec": {
   "display_name": "Python (learn-env)",
   "language": "python",
   "name": "learn-env"
  },
  "language_info": {
   "codemirror_mode": {
    "name": "ipython",
    "version": 3
   },
   "file_extension": ".py",
   "mimetype": "text/x-python",
   "name": "python",
   "nbconvert_exporter": "python",
   "pygments_lexer": "ipython3",
   "version": "3.8.5"
  }
 },
 "nbformat": 4,
 "nbformat_minor": 4
}
